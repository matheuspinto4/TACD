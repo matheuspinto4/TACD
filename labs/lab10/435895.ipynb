{
 "cells": [
  {
   "cell_type": "markdown",
   "id": "ff872904-f029-497b-8b41-c5f801ce6fbc",
   "metadata": {},
   "source": [
    "# Lab 10 -- Decision Trees for Regression\n",
    "\n",
    "Compared to last week, this is a very simple lab <span style=\"font-size:20pt;\">😃</span> You'll have fun programming!\n",
    "\n",
    "You will implement the **Classification and Regression Tree (CART)** algorithm from scratch.\n",
    "\n",
    "The lab is broken down into the following pieces:\n",
    "\n",
    "* Regression Criterion\n",
    "* Creating Splits\n",
    "* Buiding a Tree\n",
    "* Making a prediction\n",
    "\n",
    "## Exercise 1 -- Download and load the dataset\n",
    "\n",
    "We will be using the usual Boston Housing dataset, which is available to download from ECLASS\n",
    "\n",
    "* Download the file\n",
    "* Read it and separate the target variable from the features.\n",
    "* Make a 80/10/10 train/validation/test split"
   ]
  },
  {
   "cell_type": "code",
   "execution_count": 3,
   "id": "2285bb42-350c-4042-9f9c-e1a936ca7ab6",
   "metadata": {
    "tags": []
   },
   "outputs": [],
   "source": [
    "import pandas as pd\n",
    "import numpy as np\n",
    "from sklearn.model_selection import train_test_split"
   ]
  },
  {
   "cell_type": "code",
   "execution_count": 4,
   "id": "5a1f1e4a-feb8-4c43-bcf9-e7d86be427fb",
   "metadata": {
    "tags": []
   },
   "outputs": [
    {
     "name": "stderr",
     "output_type": "stream",
     "text": [
      "C:\\Users\\Matheus Pinto\\AppData\\Local\\Temp\\ipykernel_8672\\2965622961.py:2: FutureWarning: The 'delim_whitespace' keyword in pd.read_csv is deprecated and will be removed in a future version. Use ``sep='\\s+'`` instead\n",
      "  boston = pd.read_csv(path,  delim_whitespace=True)\n"
     ]
    }
   ],
   "source": [
    "path = 'housing.txt'\n",
    "boston = pd.read_csv(path,  delim_whitespace=True)\n"
   ]
  },
  {
   "cell_type": "markdown",
   "id": "fc6c7cae-f7f1-4b42-9326-aefec0898cf9",
   "metadata": {},
   "source": [
    "The target variable will be as usual `MEDV`. Use the rest as features."
   ]
  },
  {
   "cell_type": "code",
   "execution_count": 149,
   "id": "5351f2fe-31f7-4c94-97e3-a51f17fcb800",
   "metadata": {},
   "outputs": [
    {
     "name": "stdout",
     "output_type": "stream",
     "text": [
      "Training Size: 0.7861386138613862\n",
      "Validation Size: 0.11287128712871287\n",
      "Test Size: 0.100990099009901\n"
     ]
    }
   ],
   "source": [
    "X = boston.values[:,:-1]\n",
    "y = boston.iloc[:,-1:]\n",
    "X = np.array(X, dtype=float)\n",
    "y = np.array(y, dtype=float)\n",
    "X_tv, X_test, y_tv, y_test = train_test_split(X, y,test_size=0.10, random_state=10, shuffle=True)\n",
    "X_train, X_validation, y_train, y_validation = train_test_split(X_tv, y_tv, test_size=0.10/0.80 , random_state=300, shuffle=True) \n",
    "\n",
    "\n",
    "\n",
    "print(f\"Training Size: {len(X_train) / len(X)}\")\n",
    "print(f\"Validation Size: {len(X_validation) / len(X)}\")\n",
    "print(f\"Test Size: {len(X_test) / len(X)}\")\n"
   ]
  },
  {
   "cell_type": "markdown",
   "id": "90b74cb6-7ffb-4373-8df6-afca9358f635",
   "metadata": {},
   "source": [
    "## Exercise 2 -- Optimization Criterion\n",
    "\n",
    "For regression, a simple criterion to optimize is to minimize the sum of squared errors for a given region. This is, for all datapoints in a region with size, we minimize:\n",
    "\n",
    "$$\\sum_{i=1}^N(y_i - \\hat{y})^2$$\n",
    "\n",
    "where $N$ is the number of datapoits in the region and $\\hat{y}$ is the mean value of the region for the target variable. \n",
    "\n",
    "Implement such a function using the description below.\n",
    "\n",
    "Please, don't use an existing implementation, refer to the [book](https://www.statlearning.com/s/ISLRSeventhPrinting.pdf), and if you need help, ask questions!"
   ]
  },
  {
   "cell_type": "code",
   "execution_count": 6,
   "id": "71547e17",
   "metadata": {},
   "outputs": [],
   "source": [
    "# # your code here\n",
    "# housing = pd.read_csv(path,  delim_whitespace=True)\n",
    "# X = housing.values[:,:-1]\n",
    "# y = housing.values[:,-1:]\n",
    "\n",
    "# X_train, X_test_valid, y_train, y_test_valid = train_test_split(X, y, train_size=0.8, random_state=42, shuffle=True)\n",
    "# X_valid, X_test, y_valid, y_test = train_test_split(X_test_valid, y_test_valid, train_size=0.5, random_state=42,shuffle=True)"
   ]
  },
  {
   "cell_type": "code",
   "execution_count": 7,
   "id": "ef07acad-8c45-4750-a12d-81ef01966d85",
   "metadata": {
    "tags": []
   },
   "outputs": [],
   "source": [
    "def regression_criterion(region):\n",
    "    \"\"\"\n",
    "    Implements the sum of squared error criterion in a region\n",
    "    \n",
    "    Parameters\n",
    "    ----------\n",
    "    region : ndarray\n",
    "        Array of shape (N,) containing the values of the target values \n",
    "        for N datapoints in the training set.\n",
    "    \n",
    "    Returns\n",
    "    -------\n",
    "    float\n",
    "        The sum of squared error\n",
    "        \n",
    "    Note\n",
    "    ----\n",
    "    The error for an empty region should be infinity (use: float(\"inf\"))\n",
    "    This avoids creating empty regions\n",
    "    \"\"\"\n",
    "    if region.shape == (0,):\n",
    "        return float(\"inf\")\n",
    "    return np.sum((region - np.mean(region)) ** 2)"
   ]
  },
  {
   "cell_type": "code",
   "execution_count": 8,
   "id": "6f94cee5",
   "metadata": {},
   "outputs": [
    {
     "name": "stdout",
     "output_type": "stream",
     "text": [
      "3.6200679838629544\n",
      "0.0\n",
      "0.0\n",
      "inf\n"
     ]
    }
   ],
   "source": [
    "# test your code\n",
    "rng = np.random.default_rng(0)\n",
    "print(regression_criterion(rng.random(size=40)))\n",
    "print(regression_criterion(np.ones(10)))\n",
    "print(regression_criterion(np.zeros(10)))\n",
    "print(regression_criterion(np.array([])))"
   ]
  },
  {
   "cell_type": "markdown",
   "id": "594ee5c1-a1b9-4507-bd7b-2e94936ee1e6",
   "metadata": {},
   "source": [
    "## Exercise 3 -- Make a split"
   ]
  },
  {
   "cell_type": "code",
   "execution_count": null,
   "id": "3cb0cfd2-e271-4355-8953-7cd438e75340",
   "metadata": {},
   "outputs": [],
   "source": [
    "def split_region(region, feature_index, tau):\n",
    "    \"\"\"\n",
    "    Given a region, splits it based on the feature indicated by\n",
    "    `feature_index`, the region will be split in two, where\n",
    "    one side will contain all points with the feature with values \n",
    "    lower than `tau`, and the other split will contain the \n",
    "    remaining datapoints.\n",
    "    \n",
    "    Parameters\n",
    "    ----------\n",
    "    region : array of size (n_samples, n_features)\n",
    "        a partition of the dataset (or the full dataset) to be split\n",
    "    feature_index : int\n",
    "        the index of the feature (column of the region array) used to make this partition\n",
    "    tau : float\n",
    "        The threshold used to make this partition\n",
    "        \n",
    "    Return\n",
    "    ------\n",
    "    left_partition : array\n",
    "        indices of the datapoints in `region` where feature < `tau`\n",
    "    right_partition : array\n",
    "        indices of the datapoints in `region` where feature >= `tau` \n",
    "    \"\"\"\n",
    "    l = np.where(region[:,feature_index] < tau)[0]\n",
    "    r = np.where(region[:,feature_index] >= tau)[0]\n",
    "    \n",
    "    return l, r\n",
    "     "
   ]
  },
  {
   "cell_type": "code",
   "execution_count": 10,
   "id": "58a5d16d-eba9-4b14-9745-156ccbbd91aa",
   "metadata": {
    "tags": []
   },
   "outputs": [
    {
     "name": "stdout",
     "output_type": "stream",
     "text": [
      "(214,) (183,)\n"
     ]
    }
   ],
   "source": [
    "l, r = split_region(X_train, 2, 10)\n",
    "print(l.shape, r.shape)"
   ]
  },
  {
   "cell_type": "markdown",
   "id": "52b9359a-b601-4522-8731-6393500bda73",
   "metadata": {},
   "source": [
    "## Exercise 4 -- Find the best split\n",
    "\n",
    "The strategy is quite simple (as well as inefficient), but it helps to reinforce the concepts.\n",
    "We are going to use a greedy, exhaustive algorithm to select splits, selecting the `feature_index` and the `tau` that minimizes the Regression Criterion"
   ]
  },
  {
   "cell_type": "code",
   "execution_count": 11,
   "id": "079c4a77-27ba-44b8-9ad4-b98c80c9cb8b",
   "metadata": {},
   "outputs": [],
   "source": [
    "def get_split(X, y):\n",
    "    \"\"\"\n",
    "    Given a dataset (full or partial), splits it on the feature of that minimizes the sum of squared error\n",
    "    \n",
    "    Parameters\n",
    "    ----------\n",
    "    X : array (n_samples, n_features)\n",
    "        features \n",
    "    y : array (n_samples, )\n",
    "        labels\n",
    "    \n",
    "    Returns\n",
    "    -------\n",
    "    decision : dictionary\n",
    "        keys are:\n",
    "        * 'feature_index' -> an integer that indicates the feature (column) of `X` on which the data is split\n",
    "        * 'tau' -> the threshold used to make the split\n",
    "        * 'left_region' -> array of indices where the `feature_index`th feature of X is lower than `tau`\n",
    "        * 'right_region' -> indices not in `low_region`\n",
    "    \"\"\"\n",
    "    best_sse = float(\"inf\")\n",
    "    best_tau = 0\n",
    "    best_feature_index = 0\n",
    "    for feature_index in range(X.shape[1]):\n",
    "        tau_list = np.unique(X[:, feature_index])\n",
    "        for tau in tau_list:\n",
    "            l, r = split_region(X, feature_index, tau)\n",
    "            if len(l) == 0 or len(r) == 0:\n",
    "                continue\n",
    "            yl, rl = y[l], y[r]\n",
    "            sse = regression_criterion(yl) + regression_criterion(rl)\n",
    "            if sse < best_sse:\n",
    "                best_sse = sse\n",
    "                best_tau = tau\n",
    "                best_feature_index = feature_index\n",
    "\n",
    "    if best_sse == float(\"inf\"):\n",
    "        return {\n",
    "            'feature_index': 0,\n",
    "            'tau': 0,\n",
    "            'left_region': np.array([]),\n",
    "            'right_region': np.arange(X.shape[0])\n",
    "        }\n",
    "    left_region, right_region = split_region(X, best_feature_index, best_tau)\n",
    "    dic = {\n",
    "        'feature_index': best_feature_index,\n",
    "        'tau': best_tau,\n",
    "        'left_region': left_region,\n",
    "        'right_region': right_region,\n",
    "    }\n",
    "\n",
    "    return dic\n",
    "\n"
   ]
  },
  {
   "cell_type": "code",
   "execution_count": 12,
   "id": "070511bc",
   "metadata": {},
   "outputs": [
    {
     "data": {
      "text/plain": [
       "{'feature_index': 5,\n",
       " 'tau': np.float64(7.249),\n",
       " 'left_region': array([ 0,  1,  2,  3,  5,  6,  7,  8,  9, 11, 12, 14]),\n",
       " 'right_region': array([ 4, 10, 13])}"
      ]
     },
     "execution_count": 12,
     "metadata": {},
     "output_type": "execute_result"
    }
   ],
   "source": [
    "get_split(X_train[:15, :], y_train[:15])"
   ]
  },
  {
   "cell_type": "markdown",
   "id": "3d096e1f-fddf-4018-8ea9-252cb21de8c7",
   "metadata": {},
   "source": [
    "## Exercise 5 -- Recursive Splitting\n",
    "\n",
    "The test above is an example on how to find the root node of our decision tree. The algorithm now is a greedy search until we reach a stop criterion. To find the actual root node of our decision tree, you must provide the whole training set, not just a slice of 15 rows as the test above.\n",
    "\n",
    "The trivial stopping criterion is to recursively grow the tree until each split contains a single point (perfect node purity). If we go that far, it normally means we are overfitting.\n",
    "\n",
    "You will implement these criteria to stop the growth:\n",
    "\n",
    "* A node is a leaf if:\n",
    "    * It has less than `min_samples` datapoints\n",
    "    * It is at the `max_depth` level from the root (each split creates a new level)\n",
    "    * The criterion is `0`\n",
    "\n"
   ]
  },
  {
   "cell_type": "code",
   "execution_count": 134,
   "id": "89e826c6-cb8b-488c-9eb4-d4b6f2d4e9ee",
   "metadata": {},
   "outputs": [],
   "source": [
    "def recursive_growth(node, min_samples, max_depth, current_depth, X, y):\n",
    "    \"\"\"\n",
    "    Recursively grows a decision tree.\n",
    "    \n",
    "    Parameters\n",
    "    ----------\n",
    "    node : dictionary\n",
    "        If the node is terminal, it contains only the \"value\" key, which determines the value to be used as a prediction.\n",
    "        If the node is not terminal, the dictionary has the structure defined by `get_split`\n",
    "    min_samples : int\n",
    "        parameter for stopping criterion if a node has <= min_samples datapoints\n",
    "    max_depth : int\n",
    "        parameter for stopping criterion if a node belongs to this depth\n",
    "    depth : int\n",
    "        current distance from the root\n",
    "    X : array (n_samples, n_features)\n",
    "        features (full dataset)\n",
    "    y : array (n_samples, )\n",
    "        labels (full dataset)\n",
    "    \n",
    "    Notes\n",
    "    -----\n",
    "    To create a terminal node, a dictionary is created with a single \"value\" key, with a value that\n",
    "    is the mean of the target variable\n",
    "    \n",
    "    'left' and 'right' keys are added to non-terminal nodes, which contain (possibly terminal) nodes \n",
    "    from higher levels of the tree:\n",
    "    'left' corresponds to the 'left_region' key, and 'right' to the 'right_region' key\n",
    "    \"\"\"\n",
    "    region = np.concatenate((node['left_region'],node['right_region']))\n",
    "    if len(region) <= min_samples or current_depth >= max_depth or regression_criterion(y[region]) == 0:\n",
    "        node.clear()\n",
    "        region = region.astype(dtype=np.int16)\n",
    "        node['value'] = y[region].mean()\n",
    "        return\n",
    "\n",
    "    # for the left node:\n",
    "    left_indices = node['left_region']\n",
    "    X_left = X[left_indices]\n",
    "    y_left = y[left_indices]\n",
    "    node['left_region'] = get_split(X_left, y_left)\n",
    "    recursive_growth(node['left_region'], min_samples, max_depth, current_depth + 1, X_left, y_left)\n",
    "\n",
    "    # for the right node:\n",
    "    right_indices = node['right_region']\n",
    "    X_right = X[right_indices]\n",
    "    y_right = y[right_indices]\n",
    "    node['right_region'] = get_split(X_right, y_right)\n",
    "    recursive_growth(node['right_region'], min_samples, max_depth, current_depth + 1, X_right, y_right)\n",
    "\n",
    "    node['right'] = node['right_region']\n",
    "    node['left'] = node['left_region']\n"
   ]
  },
  {
   "cell_type": "code",
   "execution_count": 61,
   "id": "ef04d32a-998a-46b5-abda-c75f6f032de4",
   "metadata": {
    "tags": []
   },
   "outputs": [],
   "source": [
    "k = 20\n",
    "test_root = get_split(X_train[:k, :], y_train[:k])\n",
    "recursive_growth(test_root, 5, 3, 1, X_train[:k, :], y_train[:k])"
   ]
  },
  {
   "cell_type": "markdown",
   "id": "3a32ee99-9103-4586-8555-ccb905acd4cd",
   "metadata": {},
   "source": [
    "Below we provide code to visualise the generated tree!"
   ]
  },
  {
   "cell_type": "code",
   "execution_count": 96,
   "id": "8022f376-bff9-4455-9650-8ef66ca772da",
   "metadata": {},
   "outputs": [],
   "source": [
    "def print_tree(node, depth):\n",
    "    if 'value' in node.keys():\n",
    "        print('.  '*(depth-1), f\"[{node['value']}]\")\n",
    "    else:\n",
    "        print('.  '*depth, f'X_{node[\"feature_index\"]} < {node[\"tau\"]}')\n",
    "        print_tree(node['left'], depth+1)\n",
    "        print_tree(node['right'], depth+1)\n"
   ]
  },
  {
   "cell_type": "code",
   "execution_count": 135,
   "id": "natural-assignment",
   "metadata": {
    "tags": []
   },
   "outputs": [
    {
     "name": "stdout",
     "output_type": "stream",
     "text": [
      " X_12 < 9.8\n",
      ".   X_12 < 16.14\n",
      ".  .   X_4 < 0.609\n",
      ".  .  .   X_12 < 19.77\n",
      ".  .  .  .   X_9 < 666.0\n",
      ".  .  .  .   [9.864102564102565]\n",
      ".  .  .  .   [13.957142857142857]\n",
      ".  .  .  .   X_0 < 13.3598\n",
      ".  .  .  .   [10.9]\n",
      ".  .  .  .   [15.465517241379313]\n",
      ".  .  .   X_10 < 21.0\n",
      ".  .  .   [13.9125]\n",
      ".  .  .  .   X_5 < 6.852\n",
      ".  .  .  .   [27.5]\n",
      ".  .  .  .   [18.655172413793103]\n",
      ".  .   X_4 < 0.671\n",
      ".  .   [17.46315789473684]\n",
      ".  .  .   X_5 < 6.879\n",
      ".  .  .   [26.833333333333332]\n",
      ".  .  .  .   X_2 < 2.89\n",
      ".  .  .  .   [20.68488372093023]\n",
      ".  .  .  .   [25.366666666666664]\n",
      ".   X_5 < 6.943\n",
      ".  .   X_5 < 7.454\n",
      ".  .   [44.555]\n",
      ".  .  .   X_7 < 1.8946\n",
      ".  .  .  .   X_2 < 11.93\n",
      ".  .  .  .   [24.45]\n",
      ".  .  .  .   [33.45142857142857]\n",
      ".  .  .   [45.65]\n",
      ".  .   X_0 < 4.89822\n",
      ".  .   [50.0]\n",
      ".  .  .   X_5 < 6.546\n",
      ".  .  .  .   X_12 < 4.7\n",
      ".  .  .  .   [27.066666666666666]\n",
      ".  .  .  .   [31.03]\n",
      ".  .  .  .   X_9 < 223.0\n",
      ".  .  .  .   [22.795454545454547]\n",
      ".  .  .  .   [36.2]\n"
     ]
    }
   ],
   "source": [
    "print_tree(root, 0)"
   ]
  },
  {
   "cell_type": "markdown",
   "id": "c1e063e7-58f5-4278-86fb-4096c29a32e7",
   "metadata": {},
   "source": [
    "# Exercise 6 -- Make a Prediction\n",
    "Use the a node to predict the class of a compatible dataset"
   ]
  },
  {
   "cell_type": "code",
   "execution_count": 106,
   "id": "bb6db1b9-7fb1-4949-8a31-a0eb7364d0ec",
   "metadata": {},
   "outputs": [],
   "source": [
    "def predict_sample(node, sample):\n",
    "    \"\"\"\n",
    "    Makes a prediction based on the decision tree defined by `node`\n",
    "    \n",
    "    Parameters\n",
    "    ----------\n",
    "    node : dictionary\n",
    "        A node created one of the methods above\n",
    "    sample : array of size (n_features,)\n",
    "        a sample datapoint\n",
    "    \"\"\"\n",
    "    if 'value' in node:\n",
    "        return node['value']\n",
    "    \n",
    "    if sample[node['feature_index']] < node['tau']:\n",
    "        return predict_sample(node['left'], sample)\n",
    "    else:\n",
    "        return predict_sample(node['right'], sample)\n",
    "        \n",
    "def predict(node, X):\n",
    "    \"\"\"\n",
    "    Makes a prediction based on the decision tree defined by `node`\n",
    "    \n",
    "    Parameters\n",
    "    ----------\n",
    "    node : dictionary\n",
    "        A node created one of the methods above\n",
    "    X : array of size (n_samples, n_features)\n",
    "        n_samples predictions will be made\n",
    "    \"\"\"\n",
    "    predictions = []\n",
    "    for s in X:\n",
    "        p = predict_sample(node, s)\n",
    "        predictions.append(p)\n",
    "    return np.array(predictions)"
   ]
  },
  {
   "cell_type": "markdown",
   "id": "0660e974-11cf-4e0a-b402-a8f2ed3978c2",
   "metadata": {},
   "source": [
    "Now use the functions defined above to calculate the RMSE of the validation set. \n",
    "* Try first with `min_samples=20` and `max_depth=6` (for this values you should get a validation RMSE of ~8.8)\n",
    "\n",
    "Then, experiment with different values for the stopping criteria."
   ]
  },
  {
   "cell_type": "code",
   "execution_count": 150,
   "id": "3d9526e9-b82f-4783-b7e0-762fc87d68bf",
   "metadata": {},
   "outputs": [
    {
     "name": "stdout",
     "output_type": "stream",
     "text": [
      "13.765585354146216\n"
     ]
    }
   ],
   "source": [
    "# fill in the gaps with your code\n",
    "min_samples = 20\n",
    "max_depth = 6\n",
    "root = get_split(X_train, y_train)\n",
    "recursive_growth(root, min_samples, max_depth,1,X_train, y_train)\n",
    "\n",
    "y_p = predict(root, X_validation)\n",
    "\n",
    "rmse = np.sqrt(np.mean((y_validation - y_p) ** 2))\n",
    "print(rmse)"
   ]
  }
 ],
 "metadata": {
  "kernelspec": {
   "display_name": "VENV_algoritmos",
   "language": "python",
   "name": "python3"
  },
  "language_info": {
   "codemirror_mode": {
    "name": "ipython",
    "version": 3
   },
   "file_extension": ".py",
   "mimetype": "text/x-python",
   "name": "python",
   "nbconvert_exporter": "python",
   "pygments_lexer": "ipython3",
   "version": "3.13.0"
  }
 },
 "nbformat": 4,
 "nbformat_minor": 5
}
