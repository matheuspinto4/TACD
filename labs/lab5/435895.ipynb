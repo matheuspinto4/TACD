{
 "cells": [
  {
   "cell_type": "code",
   "execution_count": 2,
   "id": "0cf521a1-6dbe-4e99-908f-5066d4bb2d32",
   "metadata": {
    "tags": []
   },
   "outputs": [],
   "source": [
    "%matplotlib inline\n",
    "import pandas as pd\n",
    "import numpy as np\n",
    "import matplotlib.pyplot as plt\n",
    "import seaborn as sns\n",
    "from sklearn.model_selection import train_test_split\n",
    "from sklearn.linear_model import Lasso, ElasticNet\n",
    "from sklearn.metrics import mean_squared_error"
   ]
  },
  {
   "cell_type": "markdown",
   "id": "642edfed-44f8-4246-9669-f69d2d37dc11",
   "metadata": {},
   "source": [
    "# Linear Regression\n",
    "\n",
    "In this lab, we are going to continue to explore linear regression and introduce the concept of regularisation, specifically, Ridge Regression, Lasso and Elastic Net.\n",
    "\n"
   ]
  },
  {
   "cell_type": "markdown",
   "id": "24b34bcd-e75e-4a35-bfa5-7f4b3ad8f0df",
   "metadata": {},
   "source": [
    "### Load the housing dataset\n",
    "\n",
    "Using pandas, load the following dataset (available on eclass):\n",
    "\n",
    "**housing.csv:** this dataset is constituted by 506 points in 14 dimensions. Each point represents a house in the Boston area, and the 14 attributes that you find orderly in each column are the following:\n",
    "* `CRIM` - per capita crime rate by town\n",
    "* `ZN` - proportion of residential land zoned for lots over 25,000 sq.ft.\n",
    "* `INDUS` - proportion of non-retail business acres per town.\n",
    "* `CHAS` - Charles River dummy variable (1 if tract bounds river; 0 otherwise) \n",
    "* `NOX` - nitric oxides concentration (parts per 10 million)\n",
    "* `RM` - average number of rooms per dwelling\n",
    "* `AGE` - proportion of owner-occupied units built prior to 1940\n",
    "* `DIS` - weighted distances to five Boston employment centres\n",
    "* `RAD` - index of accessibility to radial highways\n",
    "* `TAX` - full-value property-tax rate per \\$10,000\n",
    "* `PTRATIO` - pupil-teacher ratio by town\n",
    "* `B` - 1000(Bk - 0.63)^2 where Bk is the proportion of blacks by town\n",
    "* `LSTAT` - % lower status of the population\n",
    "* `MEDV` - Median value of owner-occupied homes in $1000's\n",
    "\n",
    "This dataset is normally associated with 2 regression tasks: predicting `NOX` (in which the nitrous oxide level is to be predicted); and predicting price `MEDV` (in which the median value of a home is to be predicted).\n",
    "\n",
    "This dataset was also pre-processed and scaled."
   ]
  },
  {
   "cell_type": "code",
   "execution_count": 3,
   "id": "c20114bf",
   "metadata": {},
   "outputs": [
    {
     "data": {
      "text/html": [
       "<div>\n",
       "<style scoped>\n",
       "    .dataframe tbody tr th:only-of-type {\n",
       "        vertical-align: middle;\n",
       "    }\n",
       "\n",
       "    .dataframe tbody tr th {\n",
       "        vertical-align: top;\n",
       "    }\n",
       "\n",
       "    .dataframe thead th {\n",
       "        text-align: right;\n",
       "    }\n",
       "</style>\n",
       "<table border=\"1\" class=\"dataframe\">\n",
       "  <thead>\n",
       "    <tr style=\"text-align: right;\">\n",
       "      <th></th>\n",
       "      <th>CRIM</th>\n",
       "      <th>ZN</th>\n",
       "      <th>INDUS</th>\n",
       "      <th>CHAS</th>\n",
       "      <th>NOX</th>\n",
       "      <th>RM</th>\n",
       "      <th>AGE</th>\n",
       "      <th>DIS</th>\n",
       "      <th>RAD</th>\n",
       "      <th>TAX</th>\n",
       "      <th>PTRATIO</th>\n",
       "      <th>B</th>\n",
       "      <th>LSTAT</th>\n",
       "      <th>MEDV</th>\n",
       "    </tr>\n",
       "  </thead>\n",
       "  <tbody>\n",
       "    <tr>\n",
       "      <th>0</th>\n",
       "      <td>0.000000</td>\n",
       "      <td>0.165514</td>\n",
       "      <td>0.067815</td>\n",
       "      <td>0.0</td>\n",
       "      <td>0.273696</td>\n",
       "      <td>0.455845</td>\n",
       "      <td>0.495675</td>\n",
       "      <td>0.238389</td>\n",
       "      <td>0.000000</td>\n",
       "      <td>0.188979</td>\n",
       "      <td>0.252496</td>\n",
       "      <td>0.693147</td>\n",
       "      <td>0.085884</td>\n",
       "      <td>3.218876</td>\n",
       "    </tr>\n",
       "    <tr>\n",
       "      <th>1</th>\n",
       "      <td>0.000236</td>\n",
       "      <td>0.000000</td>\n",
       "      <td>0.242302</td>\n",
       "      <td>0.0</td>\n",
       "      <td>0.159428</td>\n",
       "      <td>0.436962</td>\n",
       "      <td>0.578128</td>\n",
       "      <td>0.299335</td>\n",
       "      <td>0.042560</td>\n",
       "      <td>0.099811</td>\n",
       "      <td>0.440312</td>\n",
       "      <td>0.693147</td>\n",
       "      <td>0.186040</td>\n",
       "      <td>3.117950</td>\n",
       "    </tr>\n",
       "    <tr>\n",
       "      <th>2</th>\n",
       "      <td>0.000236</td>\n",
       "      <td>0.000000</td>\n",
       "      <td>0.242302</td>\n",
       "      <td>0.0</td>\n",
       "      <td>0.159428</td>\n",
       "      <td>0.527320</td>\n",
       "      <td>0.469617</td>\n",
       "      <td>0.299335</td>\n",
       "      <td>0.042560</td>\n",
       "      <td>0.099811</td>\n",
       "      <td>0.440312</td>\n",
       "      <td>0.688003</td>\n",
       "      <td>0.061533</td>\n",
       "      <td>3.575151</td>\n",
       "    </tr>\n",
       "    <tr>\n",
       "      <th>3</th>\n",
       "      <td>0.000293</td>\n",
       "      <td>0.000000</td>\n",
       "      <td>0.063050</td>\n",
       "      <td>0.0</td>\n",
       "      <td>0.139941</td>\n",
       "      <td>0.505947</td>\n",
       "      <td>0.365901</td>\n",
       "      <td>0.370559</td>\n",
       "      <td>0.083382</td>\n",
       "      <td>0.064658</td>\n",
       "      <td>0.500130</td>\n",
       "      <td>0.690281</td>\n",
       "      <td>0.032843</td>\n",
       "      <td>3.538057</td>\n",
       "    </tr>\n",
       "    <tr>\n",
       "      <th>4</th>\n",
       "      <td>0.000705</td>\n",
       "      <td>0.000000</td>\n",
       "      <td>0.063050</td>\n",
       "      <td>0.0</td>\n",
       "      <td>0.139941</td>\n",
       "      <td>0.523014</td>\n",
       "      <td>0.424170</td>\n",
       "      <td>0.370559</td>\n",
       "      <td>0.083382</td>\n",
       "      <td>0.064658</td>\n",
       "      <td>0.500130</td>\n",
       "      <td>0.693147</td>\n",
       "      <td>0.094708</td>\n",
       "      <td>3.616309</td>\n",
       "    </tr>\n",
       "    <tr>\n",
       "      <th>...</th>\n",
       "      <td>...</td>\n",
       "      <td>...</td>\n",
       "      <td>...</td>\n",
       "      <td>...</td>\n",
       "      <td>...</td>\n",
       "      <td>...</td>\n",
       "      <td>...</td>\n",
       "      <td>...</td>\n",
       "      <td>...</td>\n",
       "      <td>...</td>\n",
       "      <td>...</td>\n",
       "      <td>...</td>\n",
       "      <td>...</td>\n",
       "      <td>...</td>\n",
       "    </tr>\n",
       "    <tr>\n",
       "      <th>501</th>\n",
       "      <td>0.000633</td>\n",
       "      <td>0.000000</td>\n",
       "      <td>0.420455</td>\n",
       "      <td>0.0</td>\n",
       "      <td>0.327021</td>\n",
       "      <td>0.458029</td>\n",
       "      <td>0.519848</td>\n",
       "      <td>0.115711</td>\n",
       "      <td>0.000000</td>\n",
       "      <td>0.151967</td>\n",
       "      <td>0.638489</td>\n",
       "      <td>0.686938</td>\n",
       "      <td>0.198109</td>\n",
       "      <td>3.152736</td>\n",
       "    </tr>\n",
       "    <tr>\n",
       "      <th>502</th>\n",
       "      <td>0.000438</td>\n",
       "      <td>0.000000</td>\n",
       "      <td>0.420455</td>\n",
       "      <td>0.0</td>\n",
       "      <td>0.327021</td>\n",
       "      <td>0.398993</td>\n",
       "      <td>0.565337</td>\n",
       "      <td>0.100111</td>\n",
       "      <td>0.000000</td>\n",
       "      <td>0.151967</td>\n",
       "      <td>0.638489</td>\n",
       "      <td>0.693147</td>\n",
       "      <td>0.184664</td>\n",
       "      <td>3.072693</td>\n",
       "    </tr>\n",
       "    <tr>\n",
       "      <th>503</th>\n",
       "      <td>0.000612</td>\n",
       "      <td>0.000000</td>\n",
       "      <td>0.420455</td>\n",
       "      <td>0.0</td>\n",
       "      <td>0.327021</td>\n",
       "      <td>0.503402</td>\n",
       "      <td>0.645695</td>\n",
       "      <td>0.090189</td>\n",
       "      <td>0.000000</td>\n",
       "      <td>0.151967</td>\n",
       "      <td>0.638489</td>\n",
       "      <td>0.693147</td>\n",
       "      <td>0.102459</td>\n",
       "      <td>3.214868</td>\n",
       "    </tr>\n",
       "    <tr>\n",
       "      <th>504</th>\n",
       "      <td>0.001160</td>\n",
       "      <td>0.000000</td>\n",
       "      <td>0.420455</td>\n",
       "      <td>0.0</td>\n",
       "      <td>0.327021</td>\n",
       "      <td>0.482097</td>\n",
       "      <td>0.636473</td>\n",
       "      <td>0.108419</td>\n",
       "      <td>0.000000</td>\n",
       "      <td>0.151967</td>\n",
       "      <td>0.638489</td>\n",
       "      <td>0.688788</td>\n",
       "      <td>0.123165</td>\n",
       "      <td>3.135494</td>\n",
       "    </tr>\n",
       "    <tr>\n",
       "      <th>505</th>\n",
       "      <td>0.000462</td>\n",
       "      <td>0.000000</td>\n",
       "      <td>0.420455</td>\n",
       "      <td>0.0</td>\n",
       "      <td>0.327021</td>\n",
       "      <td>0.387355</td>\n",
       "      <td>0.589045</td>\n",
       "      <td>0.117847</td>\n",
       "      <td>0.000000</td>\n",
       "      <td>0.151967</td>\n",
       "      <td>0.638489</td>\n",
       "      <td>0.693147</td>\n",
       "      <td>0.156749</td>\n",
       "      <td>2.557227</td>\n",
       "    </tr>\n",
       "  </tbody>\n",
       "</table>\n",
       "<p>506 rows × 14 columns</p>\n",
       "</div>"
      ],
      "text/plain": [
       "         CRIM        ZN     INDUS  CHAS       NOX        RM       AGE  \\\n",
       "0    0.000000  0.165514  0.067815   0.0  0.273696  0.455845  0.495675   \n",
       "1    0.000236  0.000000  0.242302   0.0  0.159428  0.436962  0.578128   \n",
       "2    0.000236  0.000000  0.242302   0.0  0.159428  0.527320  0.469617   \n",
       "3    0.000293  0.000000  0.063050   0.0  0.139941  0.505947  0.365901   \n",
       "4    0.000705  0.000000  0.063050   0.0  0.139941  0.523014  0.424170   \n",
       "..        ...       ...       ...   ...       ...       ...       ...   \n",
       "501  0.000633  0.000000  0.420455   0.0  0.327021  0.458029  0.519848   \n",
       "502  0.000438  0.000000  0.420455   0.0  0.327021  0.398993  0.565337   \n",
       "503  0.000612  0.000000  0.420455   0.0  0.327021  0.503402  0.645695   \n",
       "504  0.001160  0.000000  0.420455   0.0  0.327021  0.482097  0.636473   \n",
       "505  0.000462  0.000000  0.420455   0.0  0.327021  0.387355  0.589045   \n",
       "\n",
       "          DIS       RAD       TAX   PTRATIO         B     LSTAT      MEDV  \n",
       "0    0.238389  0.000000  0.188979  0.252496  0.693147  0.085884  3.218876  \n",
       "1    0.299335  0.042560  0.099811  0.440312  0.693147  0.186040  3.117950  \n",
       "2    0.299335  0.042560  0.099811  0.440312  0.688003  0.061533  3.575151  \n",
       "3    0.370559  0.083382  0.064658  0.500130  0.690281  0.032843  3.538057  \n",
       "4    0.370559  0.083382  0.064658  0.500130  0.693147  0.094708  3.616309  \n",
       "..        ...       ...       ...       ...       ...       ...       ...  \n",
       "501  0.115711  0.000000  0.151967  0.638489  0.686938  0.198109  3.152736  \n",
       "502  0.100111  0.000000  0.151967  0.638489  0.693147  0.184664  3.072693  \n",
       "503  0.090189  0.000000  0.151967  0.638489  0.693147  0.102459  3.214868  \n",
       "504  0.108419  0.000000  0.151967  0.638489  0.688788  0.123165  3.135494  \n",
       "505  0.117847  0.000000  0.151967  0.638489  0.693147  0.156749  2.557227  \n",
       "\n",
       "[506 rows x 14 columns]"
      ]
     },
     "execution_count": 3,
     "metadata": {},
     "output_type": "execute_result"
    }
   ],
   "source": [
    "housing_df = pd.read_csv('housing.csv')\n",
    "housing_df"
   ]
  },
  {
   "cell_type": "code",
   "execution_count": null,
   "id": "b6875e51-c4b0-4f65-bbe9-c2fab8e8251d",
   "metadata": {
    "tags": []
   },
   "outputs": [
    {
     "name": "stdout",
     "output_type": "stream",
     "text": [
      "[[0.00000000e+00 1.65514438e-01 6.78152493e-02 ... 2.52495763e-01\n",
      "  6.93147181e-01 8.58839941e-02]\n",
      " [2.35894714e-04 0.00000000e+00 2.42302053e-01 ... 4.40311839e-01\n",
      "  6.93147181e-01 1.86039801e-01]\n",
      " [2.35669972e-04 0.00000000e+00 2.42302053e-01 ... 4.40311839e-01\n",
      "  6.88002597e-01 6.15331818e-02]\n",
      " ...\n",
      " [6.11705344e-04 0.00000000e+00 4.20454545e-01 ... 6.38488768e-01\n",
      "  6.93147181e-01 1.02458959e-01]\n",
      " [1.16005677e-03 0.00000000e+00 4.20454545e-01 ... 6.38488768e-01\n",
      "  6.88788003e-01 1.23164653e-01]\n",
      " [4.61735077e-04 0.00000000e+00 4.20454545e-01 ... 6.38488768e-01\n",
      "  6.93147181e-01 1.56749004e-01]]\n"
     ]
    }
   ],
   "source": [
    "X = housing_df.values[:,:-1]\n",
    "y = housing_df['MEDV']"
   ]
  },
  {
   "cell_type": "markdown",
   "id": "063952ce-7dcd-4570-88ce-1388a2198d51",
   "metadata": {},
   "source": [
    "### Let's split the data into training, validation and testing. 80% training, 10% validation and 10% testing.\n",
    "suggestion: use random_state=12"
   ]
  },
  {
   "cell_type": "code",
   "execution_count": 5,
   "id": "c07a77f3-c2b6-4bd8-bcec-24125d452202",
   "metadata": {
    "tags": []
   },
   "outputs": [],
   "source": [
    "# your code goes here:\n",
    "\n",
    "X_tv, X_test, y_tv, y_test = train_test_split(X, y,test_size=0.1, random_state=189, shuffle=True) # 189\n",
    "X_train, X_validation, y_train, y_validation = train_test_split(X_tv, y_tv, test_size=1/9 , random_state=123, shuffle=True) # 123\n"
   ]
  },
  {
   "cell_type": "markdown",
   "id": "2ca6a6b3-8855-40e9-b1e1-4fe65e25ef90",
   "metadata": {},
   "source": [
    "# Part I - Ridge Regression\n",
    "\n",
    "Now you will write code that implements Ridge Regression using the closed form from the slides."
   ]
  },
  {
   "cell_type": "code",
   "execution_count": 6,
   "id": "dcb865d2-50fc-41cf-a9fa-a1c6eb0f44d4",
   "metadata": {},
   "outputs": [],
   "source": [
    "def rmse(y_test, y_predicted):\n",
    "    vector = y_test - y_predicted\n",
    "    vector = vector * vector\n",
    "    RMSE = (vector.sum() / vector.size) ** (1 / 2)\n",
    "    \n",
    "    return(RMSE)\n",
    "\n",
    "\n",
    "def func(a):\n",
    "    return a\n",
    "    #return 1 / (1 + math.e(-a))\n",
    "\n",
    "\n",
    "def normalize(x):\n",
    "    return (x - x.mean()) / x.std()\n",
    "\n",
    "\n",
    "def ridge_regression(X_train, y_train, lmb):\n",
    "    N, M = X_train.shape\n",
    "    PHI = np.ones(N*(M+1)).reshape(N,M+1)\n",
    "\n",
    "    for i in range(N):\n",
    "        for j in range(M):\n",
    "            PHI[i,j+1] = func(X_train[i,j])\n",
    "\n",
    "    I = np.identity(M+1)\n",
    "    I[0] = np.zeros(M+1)\n",
    " \n",
    "    #w = np.linalg.inv(lmb * np.identity(M+1) + PHI.T @ PHI) @ PHI.T @ y_train\n",
    "    w = np.linalg.inv(lmb * I + PHI.T @ PHI) @ PHI.T @ y_train\n",
    "\n",
    "    return w\n",
    "\n",
    "\n",
    "def add_ones(X):\n",
    "    return np.c_[np.ones(X.shape[0]), X]"
   ]
  },
  {
   "cell_type": "markdown",
   "id": "7714d099-7f84-4cdc-9185-4910517eda1b",
   "metadata": {},
   "source": [
    "Test different values of $\\lambda$ on the validation set and choose the one that gives the best RMSE.\n",
    "\n",
    "Then plot the RMSE of the validation and training sets at different values of $\\lambda$. \n",
    "\n",
    "Try: 20 points in the interval $\\lambda \\in [0,2]$\n",
    "\n",
    "\n",
    "Your plot should like the one below."
   ]
  },
  {
   "cell_type": "code",
   "execution_count": 7,
   "id": "588536cc-6720-4c65-baaa-dd8bcbcb3617",
   "metadata": {},
   "outputs": [
    {
     "data": {
      "image/png": "[encoded data removed]",
      "text/plain": [
       "<Figure size 640x480 with 1 Axes>"
      ]
     },
     "metadata": {},
     "output_type": "display_data"
    },
    {
     "name": "stdout",
     "output_type": "stream",
     "text": [
      "Best Lambda: 0.3157894736842105\n"
     ]
    }
   ],
   "source": [
    "# your code goes here:\n",
    "def best_rmse_lmbda(X_train, X_validation, y_train, y_validation):\n",
    "    validation_rmse_list = []\n",
    "    training_rmse_list = []\n",
    "    lmbds = np.linspace(0,2,20)\n",
    "    for lmb in lmbds:\n",
    "        w = ridge_regression(X_train, y_train, lmb)\n",
    "        y_predicted_validation = add_ones(X_validation) @ w\n",
    "        validation_rmse_list.append(rmse(y_validation, y_predicted_validation))\n",
    "        \n",
    "        y_predicted_training = add_ones(X_train) @ w\n",
    "        training_rmse_list.append(rmse(y_train, y_predicted_training))\n",
    "    \n",
    "    plt.plot(lmbds,training_rmse_list, \"o-\" ,label='training', markersize=6, markeredgecolor=\"white\")\n",
    "    plt.plot(lmbds,validation_rmse_list,\"x--\", label='validation', markersize=6)\n",
    "    plt.xlabel('λ')\n",
    "    plt.ylabel('RMSE')\n",
    "    plt.grid()\n",
    "    plt.legend()\n",
    "    plt.show()\n",
    "\n",
    "    min_index = validation_rmse_list.index(min(validation_rmse_list))\n",
    "\n",
    "    return lmbds[min_index]\n",
    "\n",
    "best_lmbd = best_rmse_lmbda(X_train, X_validation, y_train, y_validation)\n",
    "print(f\"Best Lambda: {best_lmbd}\")"
   ]
  },
  {
   "cell_type": "code",
   "execution_count": 8,
   "id": "461206c7-df5d-4376-9a14-ce03134e73d0",
   "metadata": {
    "tags": []
   },
   "outputs": [],
   "source": [
    "## leave this cell untouched to see how the plot should look like"
   ]
  },
  {
   "cell_type": "markdown",
   "id": "5185bf27-6689-45f4-b35c-27a7f4b93c2c",
   "metadata": {},
   "source": [
    "Now, after selecting the best $\\lambda$ based on the plot above, report the RMSE of the testing set.\n",
    "\n",
    "Don't forget to use the whole training set (train+validation) to train a model with the best value of $\\lambda$."
   ]
  },
  {
   "cell_type": "code",
   "execution_count": 9,
   "id": "100209b8-77ce-4e58-8abe-2341bf1bcbd9",
   "metadata": {},
   "outputs": [
    {
     "name": "stdout",
     "output_type": "stream",
     "text": [
      "RMSE: 0.16601289311233075\n"
     ]
    }
   ],
   "source": [
    "# your code goes here:\n",
    "X_training_set = np.r_[X_train, X_validation]\n",
    "y_training_set = np.r_[y_train, y_validation]\n",
    "\n",
    "w = ridge_regression(X_training_set, y_training_set, best_lmbd)\n",
    "\n",
    "r = rmse(y_test, add_ones(X_test) @ w)\n",
    "print(f\"RMSE: {r}\")\n"
   ]
  },
  {
   "cell_type": "code",
   "execution_count": 10,
   "id": "fad70526",
   "metadata": {},
   "outputs": [],
   "source": [
    "# your test rmse should be around this value\n",
    "\n"
   ]
  },
  {
   "cell_type": "markdown",
   "id": "b451c94d-96e5-4629-90c1-da989e30bc67",
   "metadata": {},
   "source": [
    "# Part II - Lasso\n",
    "\n",
    "Now you will implement Lasso regression, but using the scikit-learn implementation to learn the weights.\n",
    "\n",
    "You will still use the same training/validation/testing folds as in Part I"
   ]
  },
  {
   "cell_type": "markdown",
   "id": "0d4eb715-e76d-4cc3-beb5-7c6f9ef9221d",
   "metadata": {},
   "source": [
    "The l1 term is controlled by the alpha parameter in the scikit-learn implementation of Lasso."
   ]
  },
  {
   "cell_type": "code",
   "execution_count": 11,
   "id": "50aa2786-7a5a-4a32-bcf1-f5382def9345",
   "metadata": {
    "tags": []
   },
   "outputs": [],
   "source": [
    "# The general way of using the Lasso implementation (or any other classifier/regressor) of scikit-learn is as follows:\n",
    "# Make sure to replace X, y, and X_val with your training set variables!\n",
    "\n",
    "alpha_value = 1e-13\n",
    "lasso_regression = Lasso(alpha=alpha_value).fit(X_train, y_train)\n",
    "y_predict_lasso_reg = lasso_regression.predict(X_validation)\n"
   ]
  },
  {
   "cell_type": "markdown",
   "id": "a16b6bc9-224f-4ab3-b3c0-7804e3e73f73",
   "metadata": {},
   "source": [
    "### The goal here is to again find a good value of alpha for the RMSE in the validation set. \n",
    "Experiment with some different values, generate the same plot as Part I, and report the RMSE of testing set after selecting the best alpha from the validation set."
   ]
  },
  {
   "cell_type": "code",
   "execution_count": 12,
   "id": "61f35c87-e8c9-4eda-91f4-3e8502922387",
   "metadata": {},
   "outputs": [
    {
     "data": {
      "image/png": "[encoded data removed]",
      "text/plain": [
       "<Figure size 640x480 with 1 Axes>"
      ]
     },
     "metadata": {},
     "output_type": "display_data"
    },
    {
     "name": "stdout",
     "output_type": "stream",
     "text": [
      "Best alpha: 0.0004210526894736842\n",
      "Best RMSE: 0.19054673525949675\n"
     ]
    }
   ],
   "source": [
    "def best_rmse_alpha(X_train, X_validation, y_train, y_validation):\n",
    "    validation_rmse_list = []\n",
    "    training_rmse_list = []\n",
    "    alphas = np.linspace(1e-10, 1e-3, 20)\n",
    "    for alpha in alphas:\n",
    "        lasso_regression = Lasso(alpha=alpha).fit(X_train, y_train)\n",
    "        y_predicted_validation = lasso_regression.predict(X_validation)\n",
    "        validation_rmse_list.append(rmse(y_validation, y_predicted_validation))\n",
    "        \n",
    "        y_predicted_training = lasso_regression.predict(X_train)\n",
    "        training_rmse_list.append(rmse(y_train, y_predicted_training))\n",
    "    \n",
    "    plt.plot(alphas,training_rmse_list, \"o-\" ,label='training', markersize=6, markeredgecolor=\"white\")\n",
    "    plt.plot(alphas,validation_rmse_list,\"x--\", label='validation', markersize=6)\n",
    "    plt.xlabel('α')\n",
    "    plt.ylabel('RMSE')\n",
    "    plt.grid()\n",
    "    plt.legend()\n",
    "    plt.show()\n",
    "\n",
    "    min_index = validation_rmse_list.index(min(validation_rmse_list))\n",
    "\n",
    "    return alphas[min_index]\n",
    "\n",
    "best_alpha = best_rmse_alpha(X_train, X_validation, y_train, y_validation)\n",
    "print(f\"Best alpha: {best_alpha}\")\n",
    "lasso_regression = Lasso(alpha=best_alpha).fit(X_train, y_train)\n",
    "y_predict_lasso_reg = lasso_regression.predict(X_validation)\n",
    "\n",
    "print(f\"Best RMSE: {rmse(y_validation, y_predict_lasso_reg)}\")"
   ]
  },
  {
   "cell_type": "markdown",
   "id": "3b96b14f-ef5c-4810-8527-ef2ab07fe338",
   "metadata": {},
   "source": [
    "# Part III Elastic Net\n",
    "\n",
    "Now let's combine both ridge and lasso and implement Elastic Net Regression, again we'll use the sklearn implementation."
   ]
  },
  {
   "cell_type": "markdown",
   "id": "9595e120-f8bb-48d5-bb22-d786dddfd99f",
   "metadata": {},
   "source": [
    "Following the guidelines from Part II, implement Elastic Net using the sklearn implementation ElasticNet()\n",
    "\n",
    "I strongly advise you to read the documentation: https://scikit-learn.org/stable/modules/generated/sklearn.linear_model.ElasticNet.html"
   ]
  },
  {
   "cell_type": "markdown",
   "id": "dc8448f4-a37d-4467-baea-8d1a5453ccdb",
   "metadata": {},
   "source": [
    "For simplicity here, let's apply the best $\\lambda$ of Part I and the best alpha from Part II and train an Elastic Net model and report the testing set RMSE."
   ]
  },
  {
   "cell_type": "code",
   "execution_count": 13,
   "id": "abef1e61-c6aa-41f7-a087-49ca6f86a7b1",
   "metadata": {},
   "outputs": [
    {
     "name": "stdout",
     "output_type": "stream",
     "text": [
      "Lasso RMSE: 0.16534852281381449\n"
     ]
    }
   ],
   "source": [
    "# your coude goes here:\n",
    "alpha_value = best_alpha\n",
    "lambda_value = best_lmbd\n",
    "\n",
    "elasticNetRegression = ElasticNet(alpha=alpha_value, l1_ratio=lambda_value).fit(X_training_set, y_training_set)\n",
    "y_predict_elastict_net = elasticNetRegression.predict(X_test)\n",
    "\n",
    "print(f\"Lasso RMSE: {rmse(y_test, y_predict_elastict_net)}\")\n"
   ]
  }
 ],
 "metadata": {
  "kernelspec": {
   "display_name": ".venv",
   "language": "python",
   "name": "python3"
  },
  "language_info": {
   "codemirror_mode": {
    "name": "ipython",
    "version": 3
   },
   "file_extension": ".py",
   "mimetype": "text/x-python",
   "name": "python",
   "nbconvert_exporter": "python",
   "pygments_lexer": "ipython3",
   "version": "3.13.0"
  }
 },
 "nbformat": 4,
 "nbformat_minor": 5
}
